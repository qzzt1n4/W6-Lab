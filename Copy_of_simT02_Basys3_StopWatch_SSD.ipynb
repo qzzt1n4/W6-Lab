{
  "cells": [
    {
      "cell_type": "markdown",
      "metadata": {
        "id": "view-in-github",
        "colab_type": "text"
      },
      "source": [
        "<a href=\"https://colab.research.google.com/github/qzzt1n4/W6-Lab/blob/main/Copy_of_simT02_Basys3_StopWatch_SSD.ipynb\" target=\"_parent\"><img src=\"https://colab.research.google.com/assets/colab-badge.svg\" alt=\"Open In Colab\"/></a>"
      ]
    },
    {
      "cell_type": "code",
      "execution_count": null,
      "metadata": {
        "id": "lu_dcXspNbUE",
        "colab": {
          "base_uri": "https://localhost:8080/",
          "height": 34
        },
        "outputId": "3197c7ce-eda9-4a0c-93b3-3445a795399d"
      },
      "outputs": [
        {
          "output_type": "stream",
          "name": "stdout",
          "text": [
            "[INFO]: Init the Verilog ENV\n"
          ]
        }
      ],
      "source": [
        "print(\"[INFO]: Init the Verilog ENV\")\n",
        "!pip install git+https://github.com/pe8sutd/eda4u &> /dev/null\n",
        "!git clone https://github.com/pe8sutd/eda4u &> /dev/null\n",
        "%load_ext plugin"
      ]
    },
    {
      "cell_type": "markdown",
      "metadata": {
        "id": "BB7ehGW4N8iA"
      },
      "source": [
        "# Verilog HDL Block - SSD (Seven Segment Display)"
      ]
    },
    {
      "cell_type": "markdown",
      "metadata": {
        "id": "vmMwh9qzrYPI"
      },
      "source": [
        "## Seven Segment Display (SSD) for Basys-3"
      ]
    },
    {
      "cell_type": "markdown",
      "metadata": {
        "id": "xrz5EnqIe9dU"
      },
      "source": [
        "![Basys 3 Board Feature](https://digilent.com/reference/_media/basys3_hardware_walkaround.png)\n",
        "\n",
        "Figure: Basys-3 board features."
      ]
    },
    {
      "cell_type": "markdown",
      "metadata": {
        "id": "ZiqNbGY0e-DE"
      },
      "source": [
        "![7 Segment Display](https://digilent.com/reference/_media/basys3-_seven_segment_display_driving.png?w=600&tok=0639f2)\n",
        "\n",
        "Figure: 7-segment display LEDs configuration."
      ]
    },
    {
      "cell_type": "markdown",
      "metadata": {
        "id": "Y9VM__8dfGq0"
      },
      "source": [
        "![7-segment LED display for decimal number from 0 to 9](https://digilent.com/reference/_media/basys3-_seven_segment_display.png?w=600&tok=b48b86)\n",
        "\n",
        "Figure: 7-segment LED display for decimal number from 0 to 9."
      ]
    },
    {
      "cell_type": "markdown",
      "metadata": {
        "id": "vw04PZnifG_j"
      },
      "source": [
        "![7 Segment Display on the Basys3](https://digilent.com/reference/_media/basys3-_basic_io_block_diagram.png?w=600&tok=2661a2)\n",
        "\n",
        "Figure: Basys-3 pins configuration.\n"
      ]
    },
    {
      "cell_type": "markdown",
      "source": [
        "<img src=\"https://github.com/pe8sutd/Colab_DSL_Practice25/blob/main/Simulation/img/SSDcircuit.svg?raw=1\" width=\"250\">\n",
        "\n",
        "Figure: 7-segment display connectivity.\n",
        "\n",
        "On Basys3 board, there are four Seven Segment Display (SSD), which are L3,L2,L1,L0. These four SSD shares the same CA to DP (W7 to V7). These SSD can be turned on through W4 to U2.\n",
        "\n",
        "For example, to display a number '1' in L0:\n",
        "U2 is set to LOW, as a PNP transistor (AN0) is used, a LOW at the Base of AN0 will turn on this transistor. All the LEDs in the 7-segment Display have a common Anode, and now the Anode is connected to 3.3 V.  To display '1', {CA,CB,CC,CD,CE,CF,CG,DP} = 8'b1001_1111. As CB=0, CC=0, the current can flow from 3.3 V to LOW potential (0 V).  \n",
        "\n",
        "Table-1: Truth Table for Common Anode type BCD to Seven Segment Decoder, including DP.\n",
        "- [d3,d2,d1,d0] Binary Coded Decimal (BCD), where 4-bits binary number is used to represent decimal numbers [d: 0-9].\n",
        "- [CA,CB,CC,CD,CE,CF,CG,DP] 7-segment display LEDs, where LOW to light up if the corresponding [AN3,AN2,AN1,AN0] is LOW.\n",
        "- The sequence of LEDs controlled bits can be [CA to CG] or [CA to DP] in binary coded, or more commonly hexadecimal.\n",
        "- The sequence of LEDs controlled bits can also be [CG to CA] or [DP to CA] in binary coded, or more commonly hexadecimal.\n"
      ],
      "metadata": {
        "id": "kAx4QSORvp0c"
      }
    },
    {
      "cell_type": "markdown",
      "metadata": {
        "id": "AmpK01sfgrJk"
      },
      "source": [
        "Table-1: Truth Table for Common Anode type BCD to Seven Segment Decoder, including DP\n",
        "\n",
        "| x | x | x  | x  | x  | x  | x | x  |    | x  | x  | x  | x  | x  | x  | x | x      | CA to DP    | CA to DP | x | DP to CA    | DP to CA | x |\n",
        "|:---:|:---:|:---:|:---:|:---:|:---:|:---:|:---:|:---:|:---:|:---:|:---:|:---:|:---:|:---:|:---:|:------:|:-----------:|:--------:|:---:|:-----------:|:--------:|:---:|\n",
        "|   |   |    |    |    |    |   |    |    |    |    |    |    |    |    |   |        |             |          |   |             |          |   |\n",
        "| d |   | d3 | d2 | d1 | d0 |   | CA | CB | CC | CD | CE | CF | CG | DP |   | Common | Cathode     | Cathode  |   | Cathode     | Cathode  | d |\n",
        "|   |   |    |    |    |    |   |    |    |    |    |    |    |    |    |   | Anode  | [7:0]       | [7:0]    |   | [7:0]       | [7:0]    |   |\n",
        "| 0 |   | 0  | 0  | 0  | 0  |   | 0  | 0  | 0  | 0  | 0  | 0  | 1  | 1  |   | 1’b1   | 8’b00000011 | 8'h03    |   | 8’b11000000 | 8'hC0    | 0 |\n",
        "|   |   |    |    |    |    |   |    |    |    |    |    |    |    |    |   |        |             |          |   |             |          |   |\n",
        "| 1 |   | 0  | 0  | 0  | 1  |   | 1  | 0  | 0  | 1  | 1  | 1  | 1  | 1  |   | 1’b1   | 8’b10011111 | 8'h9F    |   | 8’b11111001 | 8'hF9    | 1 |\n",
        "|   |   |    |    |    |    |   |    |    |    |    |    |    |    |    |   |        |             |          |   |             |          |   |\n",
        "| 2 |   | 0  | 0  | 1  | 0  |   | 0  | 0  | 1  | 0  | 0  | 1  | 0  | 1  |   | 1’b1   | 8’b00100101 | 8'h25    |   | 8’b10100100 | 8'hA4    | 2 |\n",
        "|   |   |    |    |    |    |   |    |    |    |    |    |    |    |    |   |        |             |          |   |             |          |   |\n",
        "| 3 |   | 0  | 0  | 1  | 1  |   | 0  | 0  | 0  | 0  | 1  | 1  | 0  | 1  |   | 1’b1   | 8’b00001101 | 8'h0D    |   | 8’b10110000 | 8'hB0    | 3 |\n",
        "|   |   |    |    |    |    |   |    |    |    |    |    |    |    |    |   |        |             |          |   |             |          |   |\n",
        "| 4 |   | 0  | 1  | 0  | 0  |   | 1  | 0  | 0  | 1  | 1  | 0  | 0  | 1  |   | 1’b1   | 8’b10011001 | 8'h99    |   | 8’b10011001 | 8'h99    | 4 |\n",
        "|   |   |    |    |    |    |   |    |    |    |    |    |    |    |    |   |        |             |          |   |             |          |   |\n",
        "| 5 |   | 0  | 1  | 0  | 1  |   | 0  | 1  | 0  | 0  | 1  | 0  | 0  | 1  |   | 1’b1   | 8’b01001001 | 8'h49    |   | 8’b10010010 | 8'h92    | 5 |\n",
        "|   |   |    |    |    |    |   |    |    |    |    |    |    |    |    |   |        |             |          |   |             |          |   |\n",
        "| 6 |   | 0  | 1  | 1  | 0  |   | 0  | 1  | 0  | 0  | 0  | 0  | 0  | 1  |   | 1’b1   | 8’b01000001 | 8'h41    |   | 8’b10000010 | 8'h82    | 6 |\n",
        "|   |   |    |    |    |    |   |    |    |    |    |    |    |    |    |   |        |             |          |   |             |          |   |\n",
        "| 7 |   | 0  | 1  | 1  | 1  |   | 0  | 0  | 0  | 1  | 1  | 1  | 1  | 1  |   | 1’b1   | 8’b00011111 | 8'h1F    |   | 8’b11111000 | 8'hF8    | 7 |\n",
        "|   |   |    |    |    |    |   |    |    |    |    |    |    |    |    |   |        |             |          |   |             |          |   |\n",
        "| 8 |   | 1  | 0  | 0  | 0  |   | 0  | 0  | 0  | 0  | 0  | 0  | 0  | 1  |   | 1’b1   | 8’b00000001 | 8'h01    |   | 8’b10000000 | 8'h80    | 8 |\n",
        "|   |   |    |    |    |    |   |    |    |    |    |    |    |    |    |   |        |             |          |   |             |          |   |\n",
        "| 9 |   | 1  | 0  | 0  | 1  |   | 0  | 0  | 0  | 0  | 1  | 0  | 0  | 1  |   | 1’b1   | 8’b00001001 | 8'h09    |   | 8’b10010000 | 8'h09    | 9 |\n",
        "\n",
        "\n",
        "\n"
      ]
    },
    {
      "cell_type": "markdown",
      "source": [
        "Look into the constrain file below to figure out the connection.\n",
        "https://github.com/Digilent/digilent-xdc/blob/master/Basys-3-Master.xdc\n",
        "\n",
        "Uncomment the neccessary lines.\n",
        "\n",
        "```\n",
        "## Switches\n",
        "#set_property -dict { PACKAGE_PIN V17   IOSTANDARD LVCMOS33 } [get_ports {sw[0]}]\n",
        "#set_property -dict { PACKAGE_PIN V16   IOSTANDARD LVCMOS33 } [get_ports {sw[1]}]\n",
        "#set_property -dict { PACKAGE_PIN W16   IOSTANDARD LVCMOS33 } [get_ports {sw[2]}]\n",
        "#set_property -dict { PACKAGE_PIN W17   IOSTANDARD LVCMOS33 } [get_ports {sw[3]}]\n",
        "\n",
        "##7 Segment Display\n",
        "#set_property -dict { PACKAGE_PIN W7   IOSTANDARD LVCMOS33 } [get_ports {seg[0]}]\n",
        "#set_property -dict { PACKAGE_PIN W6   IOSTANDARD LVCMOS33 } [get_ports {seg[1]}]\n",
        "#set_property -dict { PACKAGE_PIN U8   IOSTANDARD LVCMOS33 } [get_ports {seg[2]}]\n",
        "#set_property -dict { PACKAGE_PIN V8   IOSTANDARD LVCMOS33 } [get_ports {seg[3]}]\n",
        "#set_property -dict { PACKAGE_PIN U5   IOSTANDARD LVCMOS33 } [get_ports {seg[4]}]\n",
        "#set_property -dict { PACKAGE_PIN V5   IOSTANDARD LVCMOS33 } [get_ports {seg[5]}]\n",
        "#set_property -dict { PACKAGE_PIN U7   IOSTANDARD LVCMOS33 } [get_ports {seg[6]}]\n",
        "\n",
        "#set_property -dict { PACKAGE_PIN V7   IOSTANDARD LVCMOS33 } [get_ports dp]\n",
        "\n",
        "#set_property -dict { PACKAGE_PIN U2   IOSTANDARD LVCMOS33 } [get_ports {an[0]}]\n",
        "#set_property -dict { PACKAGE_PIN U4   IOSTANDARD LVCMOS33 } [get_ports {an[1]}]\n",
        "#set_property -dict { PACKAGE_PIN V4   IOSTANDARD LVCMOS33 } [get_ports {an[2]}]\n",
        "#set_property -dict { PACKAGE_PIN W4   IOSTANDARD LVCMOS33 } [get_ports {an[3]}]\n",
        "```\n",
        "\n"
      ],
      "metadata": {
        "id": "vl8Z3eCP3-eQ"
      }
    },
    {
      "cell_type": "markdown",
      "source": [
        "### 7-segment Display Exercise"
      ],
      "metadata": {
        "id": "Hmim1LKUM3zZ"
      }
    },
    {
      "cell_type": "markdown",
      "source": [
        "#### Q1"
      ],
      "metadata": {
        "id": "l5Xod_RDOjbo"
      }
    },
    {
      "cell_type": "markdown",
      "source": [
        "1. Creat a Verilog module to display number '1' on the L1 only, while the rest of L3, L2, L0 are off, by setting an[3:0] (an[3], an[2], an[1], an[0]) at a proper logic (0, or 1). Please verify if **an** must HIGH or LOW to turn on a SSD. If you follow the reference code, is the number display correctly?"
      ],
      "metadata": {
        "id": "HQmWgk-BM7Wg"
      }
    },
    {
      "cell_type": "markdown",
      "source": [
        "##### Student Code"
      ],
      "metadata": {
        "id": "mgMExp5ufTvt"
      }
    },
    {
      "cell_type": "code",
      "source": [],
      "metadata": {
        "id": "_6S9oh_4fXi0"
      },
      "execution_count": null,
      "outputs": []
    },
    {
      "cell_type": "markdown",
      "source": [
        "##### Reference Code"
      ],
      "metadata": {
        "id": "2RZ7SG2QfQFq"
      }
    },
    {
      "cell_type": "code",
      "source": [
        "%%verilog\n",
        "\n",
        "module ssd(output[6:0]seg,output[3:0]an,input[3:0]sw);\n",
        "\n",
        "assign seg=7'b1001111; //LEDs in SSD\n",
        "assign an=4'b1101; //an, LOW to on L1\n",
        "\n",
        "endmodule"
      ],
      "metadata": {
        "colab": {
          "base_uri": "https://localhost:8080/"
        },
        "id": "LpICo5udOIOR",
        "outputId": "8e872816-2e1a-4e22-b133-936831846f55"
      },
      "execution_count": null,
      "outputs": [
        {
          "output_type": "stream",
          "name": "stdout",
          "text": [
            "\n"
          ]
        }
      ]
    },
    {
      "cell_type": "markdown",
      "source": [
        "#### Q2"
      ],
      "metadata": {
        "id": "1EVdlNPCO0EB"
      }
    },
    {
      "cell_type": "markdown",
      "source": [
        "2. In the above exercise, turn ON or OFF a SSD is preset. How to select with SSD to turn ON manually? Creat a Verilog module to display number '1' on the L3, L2, L1, or L0, by selecting inputs sw[3:0] (sw[3], sw[2], sw[1], sw[0])."
      ],
      "metadata": {
        "id": "Ootv8oLBMzbd"
      }
    },
    {
      "cell_type": "markdown",
      "source": [
        "##### Student Code"
      ],
      "metadata": {
        "id": "hdoiMQQnfIE8"
      }
    },
    {
      "cell_type": "code",
      "source": [],
      "metadata": {
        "id": "Ap-NmT1ofJkH"
      },
      "execution_count": null,
      "outputs": []
    },
    {
      "cell_type": "markdown",
      "source": [
        "##### Reference Code"
      ],
      "metadata": {
        "id": "NLZa03Q2fEbZ"
      }
    },
    {
      "cell_type": "code",
      "source": [
        "%%verilog\n",
        "\n",
        "module ssd(output[6:0]seg,output[3:0]an,input[3:0]sw);\n",
        "\n",
        "assign seg=7'b1001111; //LEDs in SSD\n",
        "assign an=sw; //sw to control an, LOW to on\n",
        "\n",
        "endmodule"
      ],
      "metadata": {
        "colab": {
          "base_uri": "https://localhost:8080/"
        },
        "id": "XMeQSpfd86pi",
        "outputId": "109ce452-c561-4bd0-980b-977f215a8f5b"
      },
      "execution_count": null,
      "outputs": [
        {
          "output_type": "stream",
          "name": "stdout",
          "text": [
            "\n"
          ]
        }
      ]
    },
    {
      "cell_type": "markdown",
      "source": [
        "#### Q3"
      ],
      "metadata": {
        "id": "zDSeFNjjO_cH"
      }
    },
    {
      "cell_type": "markdown",
      "source": [
        "3. In the above exercise, number to be display is preset. How to select the display number manually? Creat a Verilog module to display numbers (0 to 9, by setting sw[7:4]) on the L3, L2, L1, or L0 （selecting inputs sw[3:0]).\n",
        "\n",
        "Notes:\n",
        "- Set default to display E for Error. Ignore DP.\n",
        "- Can you display the right number? If not checking the sequence is CA to CG, or CG to CA?"
      ],
      "metadata": {
        "id": "TN82MOXiQdly"
      }
    },
    {
      "cell_type": "markdown",
      "source": [
        "##### Studeent Code"
      ],
      "metadata": {
        "id": "uJ0cfa7Ge7Vt"
      }
    },
    {
      "cell_type": "code",
      "source": [],
      "metadata": {
        "id": "-vKwL6qZe8XU"
      },
      "execution_count": null,
      "outputs": []
    },
    {
      "cell_type": "markdown",
      "source": [
        "##### Reference code"
      ],
      "metadata": {
        "id": "CdlzoMBte1Ru"
      }
    },
    {
      "cell_type": "code",
      "source": [
        "%%verilog\n",
        "\n",
        "module ssd(output reg[6:0]seg,output[3:0]an,input[7:0]sw);\n",
        "\n",
        "always@(sw[7:4]) begin case(sw[7:4])\n",
        "4'b0000:seg <= 7'b1000000;\n",
        "4'b0001:seg <= 7'b1111001;\n",
        "4'b0010:seg <= 7'b0100100;\n",
        "4'b0011:seg <= 7'b0110000;\n",
        "4'b0100:seg <= 7'b0011001;\n",
        "4'b0101:seg <= 7'b0010010;\n",
        "4'b0110:seg <= 7'b0000010;\n",
        "4'b0111:seg <= 7'b1111000;\n",
        "4'b1000:seg <= 7'b0000000;\n",
        "4'b1001:seg <= 7'b0010000;\n",
        "default:seg <= 7'b0000110;\n",
        "endcase end\n",
        "\n",
        "assign an=sw[3:0]; //sw to control an, LOW to on\n",
        "\n",
        "endmodule"
      ],
      "metadata": {
        "colab": {
          "base_uri": "https://localhost:8080/"
        },
        "id": "QPp5ejUBRUxb",
        "outputId": "3fc6db7c-0a7b-4a97-b084-e336eeaf324c"
      },
      "execution_count": null,
      "outputs": [
        {
          "output_type": "stream",
          "name": "stdout",
          "text": [
            "\n"
          ]
        }
      ]
    },
    {
      "cell_type": "markdown",
      "source": [
        "#### Q4"
      ],
      "metadata": {
        "id": "k0eIdbbCPedc"
      }
    },
    {
      "cell_type": "markdown",
      "source": [
        "4. Repeat Q2, but using only sw[1:0] to select L0 to L3 to display number '1'."
      ],
      "metadata": {
        "id": "qQXRkRKlui0m"
      }
    },
    {
      "cell_type": "markdown",
      "source": [
        "##### Student Code"
      ],
      "metadata": {
        "id": "nw0Fs97Iyup9"
      }
    },
    {
      "cell_type": "code",
      "source": [],
      "metadata": {
        "id": "cqIoWisByx7a"
      },
      "execution_count": null,
      "outputs": []
    },
    {
      "cell_type": "markdown",
      "source": [
        "##### Reference Code"
      ],
      "metadata": {
        "id": "eHgAJD2r7TkL"
      }
    },
    {
      "cell_type": "code",
      "source": [
        "%%verilog\n",
        "\n",
        "module ssd(output[6:0]seg,output reg[3:0]an,input[1:0]sw);\n",
        "  assign seg=7'b1001111;\n",
        "  always@(sw[1:0]) begin case(sw[1:0])\n",
        "    2'b00:an<=4'b1110;\n",
        "    2'b01:an<=4'b1101;\n",
        "    2'b10:an<=4'b1011;\n",
        "    2'b11:an<=4'b0111; endcase end\n",
        "endmodule"
      ],
      "metadata": {
        "colab": {
          "base_uri": "https://localhost:8080/"
        },
        "id": "oIRMvH_-QOzB",
        "outputId": "52da152b-c359-4a4b-bfc2-8fb3c52f027d"
      },
      "execution_count": null,
      "outputs": [
        {
          "output_type": "stream",
          "name": "stdout",
          "text": [
            "\n"
          ]
        }
      ]
    },
    {
      "cell_type": "markdown",
      "source": [
        "#### Q5"
      ],
      "metadata": {
        "id": "8Ul3XAJlt6jp"
      }
    },
    {
      "cell_type": "markdown",
      "source": [
        "5. In Figure: Basys-3 board features, it shows 5 pushbuttons (Callout-7). By using btnC, to display number '1' on L0, when press btnC. No number will be displayed when btnC is released.\n",
        "\n",
        "```\n",
        "##Buttons\n",
        "#set_property -dict { PACKAGE_PIN U18   IOSTANDARD LVCMOS33 } [get_ports btnC]\n",
        "#set_property -dict { PACKAGE_PIN T18   IOSTANDARD LVCMOS33 } [get_ports btnU]\n",
        "#set_property -dict { PACKAGE_PIN W19   IOSTANDARD LVCMOS33 } [get_ports btnL]\n",
        "#set_property -dict { PACKAGE_PIN T17   IOSTANDARD LVCMOS33 } [get_ports btnR]\n",
        "#set_property -dict { PACKAGE_PIN U17   IOSTANDARD LVCMOS33 } [get_ports btnD]\n",
        "```\n",
        "\n"
      ],
      "metadata": {
        "id": "RiznsPWVPhwA"
      }
    },
    {
      "cell_type": "markdown",
      "source": [
        "##### Student Code"
      ],
      "metadata": {
        "id": "-cZa_3R0KLYo"
      }
    },
    {
      "cell_type": "code",
      "source": [],
      "metadata": {
        "id": "JBE3jNSuKOZW"
      },
      "execution_count": null,
      "outputs": []
    },
    {
      "cell_type": "markdown",
      "source": [
        "##### Reference Code"
      ],
      "metadata": {
        "id": "AcYRlz5ISSJ7"
      }
    },
    {
      "cell_type": "code",
      "source": [
        "%%verilog\n",
        "\n",
        "module ssd(output[6:0]seg,output[3:0]an,input btnC);\n",
        "  assign seg=7'b1001111;\n",
        "  assign an=(btnC) ? 4'b1110 : 4'b1111;\n",
        "endmodule\n"
      ],
      "metadata": {
        "colab": {
          "base_uri": "https://localhost:8080/"
        },
        "id": "tfeV0hjVGefK",
        "outputId": "42e9cfa5-b688-4bc2-8931-7e8affc123e7"
      },
      "execution_count": null,
      "outputs": [
        {
          "output_type": "stream",
          "name": "stdout",
          "text": [
            "\n"
          ]
        }
      ]
    },
    {
      "cell_type": "code",
      "source": [
        "%%verilog\n",
        "\n",
        "module ssd(output[6:0]seg,output reg[3:0]an,input btnC);\n",
        "  assign seg=7'b1001111;\n",
        "  always@(btnC) begin if (btnC) an=4'b1110; else an=4'b1111; end\n",
        "\n",
        "endmodule"
      ],
      "metadata": {
        "colab": {
          "base_uri": "https://localhost:8080/"
        },
        "id": "8VkZgofwIKQJ",
        "outputId": "908ef1b7-d090-4404-f43f-4960704c2dff"
      },
      "execution_count": null,
      "outputs": [
        {
          "output_type": "stream",
          "name": "stdout",
          "text": [
            "\n"
          ]
        }
      ]
    },
    {
      "cell_type": "markdown",
      "source": [
        "#### Q6"
      ],
      "metadata": {
        "id": "ZqL_lYtdM2zq"
      }
    },
    {
      "cell_type": "markdown",
      "source": [
        "6. Using btnC to display the number '1' on L0, L1, L2, L3 in sequence. You need to use debounded_btnC as the following debounce module. The FPGA Basys 3 requires debounce module to handle the pushbuttons."
      ],
      "metadata": {
        "id": "BPJR5iAQuvCt"
      }
    },
    {
      "cell_type": "markdown",
      "source": [
        "##### Reference Code"
      ],
      "metadata": {
        "id": "5iM6sSYcxVdZ"
      }
    },
    {
      "cell_type": "code",
      "source": [
        "%%verilog\n",
        "\n",
        "module ssd(output[6:0]seg,output reg[3:0]an,input btnC,btnR,clk);\n",
        "  reg[1:0]count;\n",
        "  assign seg=7'b1001111;\n",
        "\n",
        "  //btnR as reset?\n",
        "  debounce d0 (.clk(clk),.reset(btnR),.button_in(btnC),.button_out(debounced_btnC));\n",
        "\n",
        "  always@(posedge debounced_btnC)\n",
        "    if (count != 2'b11) count <= count+1'b1;\n",
        "    else count <= 2'b00;\n",
        "\n",
        "  always@(count) begin case(count)\n",
        "    2'b00: an<=4'b1110;\n",
        "    2'b01: an<=4'b1101;\n",
        "    2'b10: an<=4'b1011;\n",
        "    2'b11: an<=4'b0111;\n",
        "  endcase end\n",
        "\n",
        "endmodule\n",
        "\n",
        "//////////////////////////////////////////////////////////////////\n",
        "module debounce (\n",
        "    input wire clk,        // System clock (e.g., 100 MHz on Basys 3)\n",
        "    input wire reset,      // Reset signal\n",
        "    input wire button_in,  // Raw button input\n",
        "    output reg button_out  // Debounced button output\n",
        ");\n",
        "\n",
        "    reg [19:0] count;      // 20-bit counter for debouncing\n",
        "    reg button_prev;        // Previous state of the button\n",
        "\n",
        "    always @(posedge clk or posedge reset) begin\n",
        "        if (reset) begin\n",
        "            count <= 20'b0;\n",
        "            button_prev <= 1'b0;\n",
        "            button_out <= 1'b0;\n",
        "        end else begin\n",
        "            button_prev <= button_in;\n",
        "            if (button_prev != button_in) begin\n",
        "                count <= 20'b0;\n",
        "            end else if (count == 20'hFFFFF) begin\n",
        "                button_out <= button_prev;\n",
        "            end else begin\n",
        "                count <= count + 1;\n",
        "            end\n",
        "        end\n",
        "    end\n",
        "\n",
        "endmodule\n",
        "//////////////////////////////////////////////////////////////////"
      ],
      "metadata": {
        "colab": {
          "base_uri": "https://localhost:8080/"
        },
        "id": "MPOosYSnqN8K",
        "outputId": "585a75b0-d39f-4f13-cc82-8d6b17645896"
      },
      "execution_count": null,
      "outputs": [
        {
          "output_type": "stream",
          "name": "stdout",
          "text": [
            "\n"
          ]
        }
      ]
    },
    {
      "cell_type": "markdown",
      "source": [
        "#### Q7"
      ],
      "metadata": {
        "id": "a2vd36NKzkK0"
      }
    },
    {
      "cell_type": "markdown",
      "source": [
        "7. Pressing the pushbuttons to display the number in sequence require manual work, which may not available most of the time. Then how? In Q6, clk (100 MHz in Basys-3) is used for the debounce module. The input to the debounce module is btnC (pressing by you!), and the output is debounce_btnC to trigger the 2-bit counter, which provide the state for the case statement controlling the SSD (L0 to L3) automatically. Similarily:\n",
        "- Using clk (100 MHz in Basys-3 board) as an input to a first counter that gives approximately 10 Hz clock, clk_10hz, which replace the debounce module.\n",
        "- Using clk_10hz as an input to the 2-bit counter in Q6."
      ],
      "metadata": {
        "id": "FM9xZgGVzmjB"
      }
    },
    {
      "cell_type": "code",
      "source": [
        "import math\n",
        "\n",
        "f_clk = 100e6;\n",
        "t_clk = 1.0/f_clk;\n",
        "\n",
        "f_clk10hz = 10;\n",
        "t_clk10hz = 1.0/f_clk10hz;\n",
        "\n",
        "n_count=t_clk10hz/t_clk;\n",
        "n_bit=math.log2(n_count);\n",
        "n_rbit=math.ceil(n_bit);\n",
        "\n",
        "print(\"f_clk = \",f_clk,\"Hz\")\n",
        "print(\"t_clk = \",t_clk,\"s\")\n",
        "\n",
        "print(\"f_clk10hz = \",f_clk10hz,\"Hz\")\n",
        "print(\"t_clk10hz = \",t_clk10hz,\"s\")\n",
        "\n",
        "print(\"number of count at\",n_count)\n",
        "print(\"number of bit\",n_bit)\n",
        "print(\"number of roung up bit\",n_rbit)\n",
        "print(\"count to 24'hFFFFFF\")\n",
        "print(\"How many count in this case? and what is the period of the clk_10hz?\")"
      ],
      "metadata": {
        "colab": {
          "base_uri": "https://localhost:8080/"
        },
        "id": "HJYqtILT46z9",
        "outputId": "2f0b2935-059d-4211-974d-b9891461d2a1"
      },
      "execution_count": null,
      "outputs": [
        {
          "output_type": "stream",
          "name": "stdout",
          "text": [
            "f_clk =  100000000.0 Hz\n",
            "t_clk =  1e-08 s\n",
            "f_clk10hz =  10 Hz\n",
            "t_clk10hz =  0.1 s\n",
            "number of count at 10000000.0\n",
            "number of bit 23.253496664211536\n",
            "number of roung up bit 24\n",
            "count to 24'hFFFFFF\n",
            "How many count in this case? and what is the period of the clk_10hz?\n"
          ]
        }
      ]
    },
    {
      "cell_type": "markdown",
      "source": [
        "##### Student Code"
      ],
      "metadata": {
        "id": "gE05WudjWhUr"
      }
    },
    {
      "cell_type": "code",
      "source": [],
      "metadata": {
        "id": "KDQg5PI8Wlil"
      },
      "execution_count": null,
      "outputs": []
    },
    {
      "cell_type": "markdown",
      "source": [
        "##### Reference Code"
      ],
      "metadata": {
        "id": "N0aYHE9g19P5"
      }
    },
    {
      "cell_type": "code",
      "source": [
        "%%verilog\n",
        "\n",
        "module ssd(output[6:0]seg,output reg[3:0]an,input btnR,input clk);\n",
        "  reg[1:0]count; wire clk_10hz;\n",
        "  assign seg=7'b1001111;\n",
        "\n",
        "  clk_10hz c0 (.clk_out(clk_10hz),.clk_in(clk),.reset(btnR));\n",
        "\n",
        "  always@(posedge clk_10hz)\n",
        "    if (count != 2'b11) count <= count+1'b1;\n",
        "    else count <= 2'b00;\n",
        "\n",
        "  always@(count) begin case(count)\n",
        "    2'b00: an<=4'b1110;\n",
        "    2'b01: an<=4'b1101;\n",
        "    2'b10: an<=4'b1011;\n",
        "    2'b11: an<=4'b0111;\n",
        "  endcase end\n",
        "\n",
        "endmodule\n",
        "\n",
        "module clk_10hz(output reg clk_out,input clk_in,reset); reg[23:0]count;\n",
        "  always@(posedge clk_in) begin\n",
        "    if(reset) count <= 24'h000000;\n",
        "    else if (count==24'hFFFFFF) begin clk_out <= 1'b1; count <= 24'h000000; end\n",
        "             else begin count <= count + 1'b1; clk_out <=1'b0; end end\n",
        "\n",
        "endmodule"
      ],
      "metadata": {
        "colab": {
          "base_uri": "https://localhost:8080/"
        },
        "id": "Z6CuD4SpBMhm",
        "outputId": "6befed8e-9c4f-4797-df0a-4ba5eb84330f"
      },
      "execution_count": null,
      "outputs": [
        {
          "output_type": "stream",
          "name": "stdout",
          "text": [
            "\n"
          ]
        }
      ]
    },
    {
      "cell_type": "markdown",
      "metadata": {
        "id": "shxev8YRheYc"
      },
      "source": [
        "## Look-up Table using \"case\" statement"
      ]
    },
    {
      "cell_type": "markdown",
      "metadata": {
        "id": "Z6O9FPhzrPII"
      },
      "source": [
        "Using case statement, the Verilog code for this module can be implemented by directly mapping the Truth Table to the case statement. Take note to include a default statement."
      ]
    },
    {
      "cell_type": "markdown",
      "metadata": {
        "id": "goGzViNFeG02"
      },
      "source": [
        "\n",
        "```\n",
        "//Decode BCD NUM into corrosponding 7Segment Code; dp to ca\n",
        "//in binary\n",
        "always @(cur_num_r) begin\n",
        "    case(cur_num_r)\n",
        "        4'b0000:segment_r <= 8'b11000000;    //NUM \"0\"\n",
        "        4'b0001:segment_r <= 8'b11111001;    //NUM \"1\"\n",
        "        4'b0010:segment_r <= 8'b10100100;    //NUM \"2\"\n",
        "        4'b0011:segment_r <= 8'b10110000;    //NUM \"3\"\n",
        "        4'b0100:segment_r <= 8'b10011001;    //NUM \"4\"\n",
        "        4'b0101:segment_r <= 8'b10010010;    //NUM \"5\"\n",
        "        4'b0110:segment_r <= 8'b10000010;    //NUM \"6\"\n",
        "        4'b0111:segment_r <= 8'b11111000;    //NUM \"7\"\n",
        "        4'b1000:segment_r <= 8'b10000000;    //NUM \"8\"\n",
        "        4'b1001:segment_r <= 8'b10010000;    //NUM \"9\"\n",
        "        default:segment_r <= 8'b11111111;\n",
        "    endcase\n",
        "end\n",
        "```\n",
        "\n",
        "The binary number is more often represented in hex.\n",
        "\n",
        "```\n",
        "//Decode BCD NUM into corrosponding 7Segment Code; dp to ca\n",
        "//in hex\n",
        "always @(cur_num_r)\n",
        "begin\n",
        "    case(cur_num_r)\n",
        "        4'd0:segment_r <= 8'hc0;    //NUM \"0\"\n",
        "        4'd1:segment_r <= 8'hf9;    //NUM \"1\"\n",
        "        4'd2:segment_r <= 8'ha4;    //NUM \"2\"\n",
        "        4'd3:segment_r <= 8'hb0;    //NUM \"3\"\n",
        "        4'd4:segment_r <= 8'h99;    //NUM \"4\"\n",
        "        4'd5:segment_r <= 8'h92;    //NUM \"5\"\n",
        "        4'd6:segment_r <= 8'h82;    //NUM \"6\"\n",
        "        4'd7:segment_r <= 8'hF8;    //NUM \"7\"\n",
        "        4'd8:segment_r <= 8'h80;    //NUM \"8\"\n",
        "        4'd9:segment_r <= 8'h90;    //NUM \"9\"\n",
        "        default: segment_r <= 8'hff;\n",
        "    endcase\n",
        "end\n",
        "```\n"
      ]
    },
    {
      "cell_type": "markdown",
      "metadata": {
        "id": "hso2fTBIrvIg"
      },
      "source": [
        "The above core can be part of the module below."
      ]
    },
    {
      "cell_type": "code",
      "execution_count": null,
      "metadata": {
        "collapsed": true,
        "id": "FMBzQsBZsINZ"
      },
      "outputs": [],
      "source": [
        "%%print_verilog\n",
        "\n",
        "//\n",
        "module b7a(segment_r,cur_num_r);\n",
        " output [7:0] segment_r;\n",
        " input [3:0] cur_num_r;\n",
        "\n",
        "reg [7:0] segment_r;        //Register - Drive 7 Segment\n",
        "\n",
        "//Decode BCD NUM into corrosponding 7Segment Code; dp to ca\n",
        "//in binary\n",
        "always @(cur_num_r)\n",
        "begin\n",
        "    case(cur_num_r)\n",
        "        4'b0000:segment_r <= 8'b11000000;    //NUM \"0\"\n",
        "        4'b0001:segment_r <= 8'b11111001;    //NUM \"1\"\n",
        "        4'b0010:segment_r <= 8'b10100100;    //NUM \"2\"\n",
        "        4'b0011:segment_r <= 8'b10110000;    //NUM \"3\"\n",
        "        4'b0100:segment_r <= 8'b10011001;    //NUM \"4\"\n",
        "        4'b0101:segment_r <= 8'b10010010;    //NUM \"5\"\n",
        "        4'b0110:segment_r <= 8'b10000010;    //NUM \"6\"\n",
        "        4'b0111:segment_r <= 8'b11111000;    //NUM \"7\"\n",
        "        4'b1000:segment_r <= 8'b10000000;    //NUM \"8\"\n",
        "        4'b1001:segment_r <= 8'b10010000;    //NUM \"9\"\n",
        "        default:segment_r <= 8'hff;\n",
        "    endcase\n",
        "end\n",
        "\n",
        "endmodule"
      ]
    },
    {
      "cell_type": "code",
      "execution_count": null,
      "metadata": {
        "id": "mj-ujkGmrwN4",
        "colab": {
          "base_uri": "https://localhost:8080/"
        },
        "outputId": "47f99fb3-daab-4084-b258-fb0c552d0ed6"
      },
      "outputs": [
        {
          "output_type": "stream",
          "name": "stdout",
          "text": [
            "VCD info: dumpfile b7a.vcd opened for output.\n",
            "\n"
          ]
        }
      ],
      "source": [
        "%%verilog\n",
        "\n",
        "//\n",
        "module b7a(segment_r,cur_num_r);\n",
        " output [7:0] segment_r;\n",
        " input [3:0] cur_num_r;\n",
        "\n",
        "reg [7:0] segment_r;        //Register - Drive 7 Segment\n",
        "\n",
        "//Decode BCD NUM into corrosponding 7Segment Code; dp to ca\n",
        "//in binary\n",
        "always @(cur_num_r)\n",
        "begin\n",
        "    case(cur_num_r)\n",
        "        4'b0000:segment_r <= 8'b11000000;    //NUM \"0\"\n",
        "        4'b0001:segment_r <= 8'b11111001;    //NUM \"1\"\n",
        "        4'b0010:segment_r <= 8'b10100100;    //NUM \"2\"\n",
        "        4'b0011:segment_r <= 8'b10110000;    //NUM \"3\"\n",
        "        4'b0100:segment_r <= 8'b10011001;    //NUM \"4\"\n",
        "        4'b0101:segment_r <= 8'b10010010;    //NUM \"5\"\n",
        "        4'b0110:segment_r <= 8'b10000010;    //NUM \"6\"\n",
        "        4'b0111:segment_r <= 8'b11111000;    //NUM \"7\"\n",
        "        4'b1000:segment_r <= 8'b10000000;    //NUM \"8\"\n",
        "        4'b1001:segment_r <= 8'b10010000;    //NUM \"9\"\n",
        "        default:segment_r <= 8'hff;\n",
        "    endcase\n",
        "end\n",
        "\n",
        "endmodule\n",
        "////\n",
        "\n",
        "//\n",
        "module b7a_tb;\n",
        " wire [7:0] segment_r;\n",
        " reg [3:0] cur_num_r;\n",
        "\n",
        "b7a b7a1(segment_r,cur_num_r);\n",
        "\n",
        "initial begin\n",
        "    $dumpfile(\"b7a.vcd\");\n",
        "    $dumpvars(0,b7a_tb);\n",
        "\n",
        "    cur_num_r=4'd0;\n",
        "    #1 cur_num_r=4'd1;\n",
        "    #1 cur_num_r=4'd2;\n",
        "    #1 cur_num_r=4'd3;\n",
        "    #1 cur_num_r=4'd4;\n",
        "    #1 cur_num_r=4'd5;\n",
        "    #1 cur_num_r=4'd6;\n",
        "    #1 cur_num_r=4'd7;\n",
        "    #1 cur_num_r=4'd8;\n",
        "    #1 cur_num_r=4'd9;\n",
        "    #1 cur_num_r=4'd10;\n",
        "    #1 cur_num_r=4'd11;\n",
        "    #1 $finish;\n",
        "\n",
        "    $dumpoff;\n",
        "end\n",
        "\n",
        "endmodule\n",
        "\n",
        "////"
      ]
    },
    {
      "cell_type": "code",
      "execution_count": null,
      "metadata": {
        "id": "grHLEhKvsNtP",
        "colab": {
          "base_uri": "https://localhost:8080/",
          "height": 286
        },
        "outputId": "912eb590-a1a5-47f2-ae9d-ecf7a0af2ff7"
      },
      "outputs": [
        {
          "output_type": "display_data",
          "data": {
            "text/plain": [
              "<Figure size 1200x300 with 1 Axes>"
            ],
            "image/png": "[encoded data removed]"
          },
          "metadata": {}
        }
      ],
      "source": [
        "%%waveform b7a.vcd\n",
        "sign_list = ['b7a_tb.b7a1.segment_r','b7a_tb.cur_num_r']\n",
        "time_begin = 0\n",
        "time_end = 11\n",
        "base = 'hex' # bin, dec, dec2, hex, octal"
      ]
    },
    {
      "cell_type": "markdown",
      "metadata": {
        "id": "ozq9VdBovB4g"
      },
      "source": [
        "Sometimes, the 7-Segment (CA to CG) and dp are not in the same case statement."
      ]
    },
    {
      "cell_type": "markdown",
      "metadata": {
        "id": "4MXVMHjpvBsp"
      },
      "source": [
        "Table 2: Truth Table for Common Anode type BCD to Seven Segment Decoder, not including DP\n",
        "\n",
        "| d |   | b3 | b2 | b1 | b0 |   | CA | CB | CC | CD | CE | CF | CG |   | Common | Cathode    | Cathode |   | Cathode    | Cathode |   |\n",
        "|:---:|:---:|:---:|:---:|:---:|:---:|:---:|:---:|:---:|:---:|:---:|:---:|:---:|:---:|:---:|:------:|:----------:|:-------:|:---:|:----------:|:-------:|:---:|\n",
        "|   |   |    |    |    |    |   |    |    |    |    |    |    |    |   | Anode  | [6:0]      | [6:0]   |   | [6:0]      | [6:0]   |   |\n",
        "| 0 |   | 0  | 0  | 0  | 0  |   | 0  | 0  | 0  | 0  | 0  | 0  | 1  |   | 1’b1   | 7’b0000001 | 7'h01   |   | 7’b1000000 | 7'h40   | 0 |\n",
        "|   |   |    |    |    |    |   |    |    |    |    |    |    |    |   |        |            |         |   |            |         |   |\n",
        "| 1 |   | 0  | 0  | 0  | 1  |   | 1  | 0  | 0  | 1  | 1  | 1  | 1  |   | 1’b1   | 7’b1001111 | 7'h4F   |   | 7’b1111001 | 7'h79   | 1 |\n",
        "|   |   |    |    |    |    |   |    |    |    |    |    |    |    |   |        |            |         |   |            |         |   |\n",
        "| 2 |   | 0  | 0  | 1  | 0  |   | 0  | 0  | 1  | 0  | 0  | 1  | 0  |   | 1’b1   | 7’b0010010 | 7'h12   |   | 7’b0100100 | 7'h24   | 2 |\n",
        "|   |   |    |    |    |    |   |    |    |    |    |    |    |    |   |        |            |         |   |            |         |   |\n",
        "| 3 |   | 0  | 0  | 1  | 1  |   | 0  | 0  | 0  | 0  | 1  | 1  | 0  |   | 1’b1   | 7’b0000110 | 7'h06   |   | 7’b0110000 | 7'h30   | 3 |\n",
        "|   |   |    |    |    |    |   |    |    |    |    |    |    |    |   |        |            |         |   |            |         |   |\n",
        "| 4 |   | 0  | 1  | 0  | 0  |   | 1  | 0  | 0  | 1  | 1  | 0  | 0  |   | 1’b1   | 7’b1001100 | 7'h4C   |   | 7’b0011001 | 7'h19   | 4 |\n",
        "|   |   |    |    |    |    |   |    |    |    |    |    |    |    |   |        |            |         |   |            |         |   |\n",
        "| 5 |   | 0  | 1  | 0  | 1  |   | 0  | 1  | 0  | 0  | 1  | 0  | 0  |   | 1’b1   | 7’b0100100 | 7'h24   |   | 7’b0010010 | 7'h12   | 5 |\n",
        "|   |   |    |    |    |    |   |    |    |    |    |    |    |    |   |        |            |         |   |            |         |   |\n",
        "| 6 |   | 0  | 1  | 1  | 0  |   | 0  | 1  | 0  | 0  | 0  | 0  | 0  |   | 1’b1   | 7’b0100000 | 7'h20   |   | 7’b0000010 | 7'h02   | 6 |\n",
        "|   |   |    |    |    |    |   |    |    |    |    |    |    |    |   |        |            |         |   |            |         |   |\n",
        "| 7 |   | 0  | 1  | 1  | 1  |   | 0  | 0  | 0  | 1  | 1  | 1  | 1  |   | 1’b1   | 7’b0001111 | 7'h0F   |   | 7’b1111000 | 7'h78   | 7 |\n",
        "|   |   |    |    |    |    |   |    |    |    |    |    |    |    |   |        |            |         |   |            |         |   |\n",
        "| 8 |   | 1  | 0  | 0  | 0  |   | 0  | 0  | 0  | 0  | 0  | 0  | 0  |   | 1’b1   | 7’b0000000 | 7'h00   |   | 7’b0000000 | 7'h00   | 8 |\n",
        "|   |   |    |    |    |    |   |    |    |    |    |    |    |    |   |        |            |         |   |            |         |   |\n",
        "| 9 |   | 1  | 0  | 0  | 1  |   | 0  | 0  | 0  | 0  | 1  | 0  | 0  |   | 1’b1   | 7’b0000100 | 7'h04   |   | 7’b0010000 | 7'h10   | 9 |\n"
      ]
    },
    {
      "cell_type": "markdown",
      "metadata": {
        "id": "hBHXCUaRxOCR"
      },
      "source": [
        "## 4 SSD"
      ]
    },
    {
      "cell_type": "markdown",
      "metadata": {
        "id": "BRJxHccaxLvh"
      },
      "source": [
        "Basys3 board has four 7-segment displays (L3, L2, L1, L0), that can be turned on through AN[3:0].\n",
        "\n",
        "<img src=\"https://github.com/pe8sutd/Colab_DSL_Practice25/blob/main/Simulation/img/SSDcircuit.svg?raw=1\" width=\"250\">\n",
        "\n",
        "Figure: 7-segment display connectivity."
      ]
    },
    {
      "cell_type": "markdown",
      "metadata": {
        "id": "Idb9rbtNFRXn"
      },
      "source": [
        "## Time multiplexing"
      ]
    },
    {
      "cell_type": "markdown",
      "metadata": {
        "id": "ommX-F-my5na"
      },
      "source": [
        "The cathodes (CA ... DP) of four seven-segment LEDs (L3,L2,L1,L0) on Basys 3 are connected together as shown in (Figure: 7-segment display connectivity). The reason is the FPGA chip has limited pin out, or it is a way of saving pin count.\n",
        "Thus, to display 4 different numbers on the 4-digit seven-segment LED display, the cathodes (CA-CG) of the four seven-segment LEDs have to be controlled separately by activating the four seven-segment LEDs at different times (Time Multiplexing).\n",
        "For example, when L1 is activated by driving AN1 high (U4 = LOW) and the other three LEDs (L0, L2, L3) are deactivated (AN0, AN2, and AN3 not driven).\n",
        "The cathode pattern (CA-CG) will be used for displaying numbers on L1.\n",
        "Similarly, L0 to L3 can be displayed by using the same way at different times.\n",
        "\n",
        "As shwon in (Figure: 7-segment display connectivity), four seven-segment LEDs can be activated by using 4 PNP transistors AN0-AN3. When a transistor is on or the Base terminal (W4, U4, V4, or U2) is low, the corresponding anode is driven high (3.3 V) to activate or enable the corresponding seven-segment LED.\n",
        "When a LED is deactivated after illuminating, it will darken. To avoid the displaying discontinuity perceived by the human eye, the four seven-segment LEDs should be continuously refreshed at 60 Hz or above (but not too high, usually at 1 kHz), e.g. it should be refreshed at every 1 ms to 16 ms (60 Hz) to 1 ms (1 kHz).\n"
      ]
    },
    {
      "cell_type": "code",
      "execution_count": null,
      "metadata": {
        "colab": {
          "base_uri": "https://localhost:8080/"
        },
        "id": "FOxQ1hXWJDeg",
        "outputId": "556a8fad-eb1e-416f-c609-f5801b3e017b"
      },
      "outputs": [
        {
          "output_type": "stream",
          "name": "stdout",
          "text": [
            "For 60 Hz, t =  16.666666666666668 ms\n",
            "For 1 kHz, t =  1.0 ms\n"
          ]
        }
      ],
      "source": [
        "\n",
        "print(\"For 60 Hz, t = \", 1/60*1000, \"ms\")\n",
        "print(\"For 1 kHz, t = \", 1/1000*1000, \"ms\")\n"
      ]
    },
    {
      "cell_type": "markdown",
      "metadata": {
        "id": "fCgK9gZmKheY"
      },
      "source": [
        "Verilog that related to SSD, extracted from Stopwatch code.\n",
        "\n",
        "The multiplexing frequency is 500 Hz (60 Hz to 1 kHz), almost 10 times of 50 Hz / 60 Hz, which is fast enough for eyes to detect the multiplexing sequence. The sequence rotates at:\n",
        "\n",
        "```\n",
        "DIG3 -> DIG2 -> DIG1 -> DIG4 -> DIG3\n",
        " ^                               |\n",
        " |_______________________________v\n",
        "```\n",
        "\n",
        "\n",
        "```\n",
        "case(an_r)\n",
        "        4'b0001: an_r <= 4'b0010;   //DISPLAY ON DIG3\n",
        "        4'b0010: an_r <= 4'b0100;   //DISPLAY ON DIG2\n",
        "        4'b0100: an_r <= 4'b1000;   //DISPLAY ON DIG1\n",
        "        4'b1000: an_r <= 4'b0001;   //DISPLAY ON DIG4\n",
        "        default: an_r <= 4'b0001;   //DISPLAY ON DIG4\n",
        "endcase\n",
        "```\n",
        "\n",
        "The multiplexing is achieved through \"case\" statement in synchronous \"always\" block that is triggered at 500 Hz clock positive edge.\n",
        "```\n",
        "always @(negedge rstn or posedge clk_500hz)\n",
        "```\n"
      ]
    },
    {
      "cell_type": "markdown",
      "metadata": {
        "id": "UgigNd6zVzGj"
      },
      "source": [
        "Please run the following simulation to view the wave of 7-segment driver."
      ]
    },
    {
      "cell_type": "code",
      "execution_count": null,
      "metadata": {
        "colab": {
          "base_uri": "https://localhost:8080/"
        },
        "id": "mLUuNN6syoDz",
        "outputId": "cedd985d-27cc-4c5d-a8fb-e58cc6dec218"
      },
      "outputs": [
        {
          "output_type": "stream",
          "name": "stdout",
          "text": [
            "VCD info: dumpfile tb.vcd opened for output.\n",
            "Time=1 ANODE=1111 SEG=11000000 NUM3=1 NUM2=2 NUM1=3 NUM0=4\n",
            "Time=3 ANODE=1111 SEG=11000000 NUM3=1 NUM2=2 NUM1=3 NUM0=4\n",
            "Time=5 ANODE=1110 SEG=10011001 NUM3=1 NUM2=2 NUM1=3 NUM0=4\n",
            "Time=7 ANODE=1101 SEG=10110000 NUM3=1 NUM2=2 NUM1=3 NUM0=4\n",
            "Time=9 ANODE=1011 SEG=10100100 NUM3=1 NUM2=2 NUM1=3 NUM0=4\n",
            "Time=11 ANODE=0111 SEG=11111001 NUM3=1 NUM2=2 NUM1=3 NUM0=4\n",
            "Time=13 ANODE=1110 SEG=10011001 NUM3=5 NUM2=6 NUM1=7 NUM0=8\n",
            "Time=15 ANODE=1101 SEG=11111000 NUM3=5 NUM2=6 NUM1=7 NUM0=8\n",
            "Time=17 ANODE=1011 SEG=10000010 NUM3=5 NUM2=6 NUM1=7 NUM0=8\n",
            "Time=19 ANODE=0111 SEG=10010010 NUM3=5 NUM2=6 NUM1=7 NUM0=8\n",
            "Time=21 ANODE=1110 SEG=10000000 NUM3=5 NUM2=6 NUM1=7 NUM0=8\n",
            "Time=23 ANODE=1101 SEG=11111000 NUM3=f NUM2=e NUM1=d NUM0=c\n",
            "Time=25 ANODE=1011 SEG=11111111 NUM3=f NUM2=e NUM1=d NUM0=c\n",
            "Time=27 ANODE=0111 SEG=11111111 NUM3=f NUM2=e NUM1=d NUM0=c\n",
            "Time=29 ANODE=1110 SEG=11111111 NUM3=f NUM2=e NUM1=d NUM0=c\n",
            "Time=31 ANODE=1101 SEG=11111111 NUM3=f NUM2=e NUM1=d NUM0=c\n",
            "Time=33 ANODE=1011 SEG=11111111 NUM3=f NUM2=e NUM1=d NUM0=c\n",
            "Time=35 ANODE=0111 SEG=11111111 NUM3=f NUM2=e NUM1=d NUM0=c\n",
            "\n"
          ]
        }
      ],
      "source": [
        "%%verilog\n",
        "module drv_7segment(\n",
        "    input           rstn_i,\n",
        "    input           clk_500hz,\n",
        "    input   [3:0]   num3_i,\n",
        "    input   [3:0]   num2_i,\n",
        "    input   [3:0]   num1_i,\n",
        "    input   [3:0]   num0_i,\n",
        "    output  [3:0]   an_o,\n",
        "    output  [7:0]   seg_o\n",
        ");\n",
        "\n",
        "reg [7:0] segment_r;\n",
        "reg [3:0] cur_num_r;\n",
        "reg [3:0] an_r;\n",
        "\n",
        "assign an_o = ~an_r;       // Common anode inversion\n",
        "assign seg_o = segment_r;  // Direct segment output\n",
        "\n",
        "// Anode rotation logic\n",
        "always @(negedge rstn_i, posedge clk_500hz) begin\n",
        "    if (!rstn_i) an_r <= 4'b0000;\n",
        "    else case (an_r)\n",
        "        4'b0001: an_r <= 4'b0010;  // DIG3\n",
        "        4'b0010: an_r <= 4'b0100;  // DIG2\n",
        "        4'b0100: an_r <= 4'b1000;  // DIG1\n",
        "        default: an_r <= 4'b0001;  // DIG4 (including reset state)\n",
        "    endcase\n",
        "end\n",
        "\n",
        "// Direct input digit selection\n",
        "always @(*) begin\n",
        "    case (an_r)\n",
        "        4'b0001: cur_num_r = num0_i;  // DIG4 (LSB)\n",
        "        4'b0010: cur_num_r = num1_i;  // DIG3\n",
        "        4'b0100: cur_num_r = num2_i;  // DIG2\n",
        "        4'b1000: cur_num_r = num3_i;  // DIG1 (MSB)\n",
        "        default: cur_num_r = 4'b0;    // All off\n",
        "    endcase\n",
        "end\n",
        "\n",
        "// 7-segment decoder\n",
        "always @(*) begin\n",
        "    case (cur_num_r)\n",
        "        4'h0: segment_r = 8'hC0;  // 0\n",
        "        4'h1: segment_r = 8'hF9;  // 1\n",
        "        4'h2: segment_r = 8'hA4;  // 2\n",
        "        4'h3: segment_r = 8'hB0;  // 3\n",
        "        4'h4: segment_r = 8'h99;  // 4\n",
        "        4'h5: segment_r = 8'h92;  // 5\n",
        "        4'h6: segment_r = 8'h82;  // 6\n",
        "        4'h7: segment_r = 8'hF8;  // 7\n",
        "        4'h8: segment_r = 8'h80;  // 8\n",
        "        4'h9: segment_r = 8'h90;  // 9\n",
        "        default: segment_r = 8'hFF; // Off\n",
        "    endcase\n",
        "end\n",
        "\n",
        "endmodule\n",
        "\n",
        "\n",
        "//module tb_drv_7segment();\n",
        "module tb();\n",
        "\n",
        "// Testbench signals\n",
        "reg dut_rstn;\n",
        "reg dut_clk_500hz;\n",
        "reg [3:0] dut_num3_i;\n",
        "reg [3:0] dut_num2_i;\n",
        "reg [3:0] dut_num1_i;\n",
        "reg [3:0] dut_num0_i;\n",
        "wire [3:0] dut_an_o;\n",
        "wire [7:0] dut_seg_o;\n",
        "\n",
        "// Instantiate DUT\n",
        "drv_7segment dut (\n",
        "    .rstn_i(dut_rstn),\n",
        "    .clk_500hz(dut_clk_500hz),\n",
        "    .num3_i(dut_num3_i),\n",
        "    .num2_i(dut_num2_i),\n",
        "    .num1_i(dut_num1_i),\n",
        "    .num0_i(dut_num0_i),\n",
        "    .an_o(dut_an_o),\n",
        "    .seg_o(dut_seg_o)\n",
        ");\n",
        "\n",
        "// Clock generation (500Hz -> 2ms period)\n",
        "always begin\n",
        "    #1 dut_clk_500hz = ~dut_clk_500hz;\n",
        "end\n",
        "\n",
        "initial begin\n",
        "    // Initialize waveform dumping\n",
        "    //$dumpfile(\"tb_drv_7segment.vcd\");\n",
        "    //$dumpvars(0, tb_drv_7segment);\n",
        "    $dumpfile(\"tb.vcd\");\n",
        "    $dumpvars(0, tb);\n",
        "    $dumpon;\n",
        "\n",
        "    // Initialize signals\n",
        "    dut_clk_500hz = 0;\n",
        "    dut_rstn = 0;\n",
        "    dut_num3_i = 4'h1;\n",
        "    dut_num2_i = 4'h2;\n",
        "    dut_num1_i = 4'h3;\n",
        "    dut_num0_i = 4'h4;\n",
        "\n",
        "    // Reset sequence\n",
        "    #3 dut_rstn = 1;\n",
        "\n",
        "    // Test case 1: Normal operation\n",
        "    #10;\n",
        "\n",
        "    // Test case 2: Change input values\n",
        "    dut_num3_i = 4'h5;\n",
        "    dut_num2_i = 4'h6;\n",
        "    dut_num1_i = 4'h7;\n",
        "    dut_num0_i = 4'h8;\n",
        "    #10\n",
        "\n",
        "    // Test case 3: Invalid inputs\n",
        "    dut_num3_i = 4'hF;\n",
        "    dut_num2_i = 4'hE;\n",
        "    dut_num1_i = 4'hD;\n",
        "    dut_num0_i = 4'hC;\n",
        "    #10\n",
        "    // End simulation\n",
        "    #3 $dumpoff;\n",
        "    $finish();\n",
        "end\n",
        "\n",
        "// Monitor signals\n",
        "always @(posedge dut_clk_500hz) begin\n",
        "    $display(\"Time=%0t ANODE=%4b SEG=%8b NUM3=%h NUM2=%h NUM1=%h NUM0=%h\",\n",
        "        $time, dut_an_o, dut_seg_o,\n",
        "        dut_num3_i, dut_num2_i, dut_num1_i, dut_num0_i);\n",
        "end\n",
        "\n",
        "endmodule"
      ]
    },
    {
      "cell_type": "code",
      "execution_count": null,
      "metadata": {
        "colab": {
          "base_uri": "https://localhost:8080/",
          "height": 211
        },
        "id": "ahXtkGyjyoD0",
        "outputId": "56e866f6-c171-4118-919d-81a1622672a0"
      },
      "outputs": [
        {
          "output_type": "display_data",
          "data": {
            "text/plain": [
              "<Figure size 4100x1200 with 1 Axes>"
            ],
            "image/png": "[encoded data removed]"
          },
          "metadata": {}
        }
      ],
      "source": [
        "%%waveform tb.vcd\n",
        "sign_list = [ 'tb.dut_rstn', 'tb.dut_clk_500hz', 'tb.dut_num3_i', 'tb.dut_num2_i', 'tb.dut_num1_i', 'tb.dut_num0_i', 'tb.dut_an_o', 'tb.dut_seg_o', 'tb.dut.segment_r', 'tb.dut.cur_num_r', 'tb.dut.an_r']\n",
        "time_begin = 0\n",
        "time_end = 40  # Covers full simulation duration\n",
        "base = 'hex'    # hex format for all values"
      ]
    }
  ],
  "metadata": {
    "colab": {
      "provenance": [],
      "include_colab_link": true
    },
    "kernelspec": {
      "display_name": "Python 3",
      "name": "python3"
    },
    "language_info": {
      "codemirror_mode": {
        "name": "ipython",
        "version": 3
      },
      "file_extension": ".py",
      "mimetype": "text/x-python",
      "name": "python",
      "nbconvert_exporter": "python",
      "pygments_lexer": "ipython3",
      "version": "3.10.12"
    }
  },
  "nbformat": 4,
  "nbformat_minor": 0
}